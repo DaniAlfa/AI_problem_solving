{
 "cells": [
  {
   "cell_type": "markdown",
   "metadata": {},
   "source": [
    "### El problema de los misioneros y los caníbales en AIMA"
   ]
  },
  {
   "cell_type": "code",
   "execution_count": 2,
   "metadata": {},
   "outputs": [],
   "source": [
    "# importamos las cosas que vamos a usar de aima\n",
    "from search import *\n",
    "\n",
    "class ProblemaMisioneros(Problem):\n",
    "    ''' Clase problema (formalizacion de nuestro problema) siguiendo la\n",
    "        estructura que aima espera que tengan los problemas.'''\n",
    "    def __init__(self, initial, goal=None):\n",
    "        '''Inicializacion de nuestro problema.'''\n",
    "        Problem.__init__(self, initial, goal)\n",
    "        # cada accion tiene un texto para identificar al operador y despues una tupla con la\n",
    "        # cantidad de misioneros y canibales que se mueven en la canoa\n",
    "        self._actions = [('1c', (0,1)), ('1m', (1, 0)), ('2c', (0, 2)), ('2m', (2, 0)), ('1m1c', (1, 1))]\n",
    "        self.analizados  = 0\n",
    "\n",
    "    def actions(self, s):\n",
    "        '''Devuelve las acciones validas para un estado.'''\n",
    "        # las acciones validas para un estado son aquellas que al aplicarse\n",
    "        # nos dejan en otro estado valido\n",
    "        return [a for a in self._actions if self._is_valid(self.result(s, a))]\n",
    "\n",
    "    def _is_valid(self, s):\n",
    "        '''Determina si un estado es valido o no.'''\n",
    "        # un estado es valido si no hay mas canibales que misioneros en ninguna\n",
    "        # orilla, y si las cantidades estan entre 0 y 3\n",
    "        return (s[0] >= s[1] or s[0] == 0) and ((3 - s[0]) >= (3 - s[1]) or s[0] == 3) and (0 <= s[0] <= 3) and (0 <= s[1] <= 3)\n",
    "\n",
    "    def goal_test(self, estado):\n",
    "        self.analizados += 1\n",
    "        return super().goal_test(estado)\n",
    "    \n",
    "    def result(self, s, a):\n",
    "        '''Devuelve el estado resultante de aplicar una accion a un estado\n",
    "           determinado.'''\n",
    "        # el estado resultante tiene la canoa en el lado opuesto, y con las\n",
    "        # cantidades de misioneros y canibales actualizadas segun la cantidad\n",
    "        # que viajaron en la canoa\n",
    "        if s[2] == 0:\n",
    "            return (s[0] - a[1][0], s[1] - a[1][1], 1)\n",
    "        else:\n",
    "            return (s[0] + a[1][0], s[1] + a[1][1], 0)\n",
    "\n",
    "    @staticmethod\n",
    "    def evalAlgorithm(estado_inicial, meta, algoritmo, bEvalTime=True, h=None):\n",
    "        pMisioneros = ProblemaMisioneros(estado_inicial, meta)\n",
    "        if h: \n",
    "            if bEvalTime:\n",
    "                print(\"Tiempo medio de ejecución: \")\n",
    "                %timeit algoritmo(pMisioneros,h).solution()\n",
    "                pMisioneros.analizados = 0\n",
    "            sol = algoritmo(pMisioneros,h).solution()\n",
    "        else: \n",
    "            if bEvalTime:\n",
    "                print(\"Tiempo medio de ejecución: \")\n",
    "                %timeit algoritmo(pMisioneros).solution()\n",
    "                pMisioneros.analizados = 0\n",
    "            sol = algoritmo(pMisioneros).solution()\n",
    "        print(\"Solución: {0}\".format(sol))\n",
    "        print(\"Algoritmo: {0}\".format(algoritmo.__name__))\n",
    "        if h: \n",
    "            print(\"Heurística: {0}\".format(h.__name__))\n",
    "        else:\n",
    "            pass\n",
    "        print(\"Longitud de la solución: {0}. Nodos analizados: {1}\".format(len(sol),pMisioneros.analizados))\n",
    "        "
   ]
  },
  {
   "cell_type": "code",
   "execution_count": 5,
   "metadata": {},
   "outputs": [
    {
     "name": "stdout",
     "output_type": "stream",
     "text": [
      "Tiempo medio de ejecución: \n",
      "132 ms ± 12.5 ms per loop (mean ± std. dev. of 7 runs, 10 loops each)\n",
      "Solución: [('2c', (0, 2)), ('1c', (0, 1)), ('2c', (0, 2)), ('1c', (0, 1)), ('2m', (2, 0)), ('1m1c', (1, 1)), ('2m', (2, 0)), ('1c', (0, 1)), ('2c', (0, 2)), ('1c', (0, 1)), ('2c', (0, 2))]\n",
      "Algoritmo: breadth_first_tree_search\n",
      "Longitud de la solución: 11. Nodos analizados: 11878\n",
      "\n",
      "-----\n",
      "\n",
      "Tiempo medio de ejecución: \n",
      "156 µs ± 11.8 µs per loop (mean ± std. dev. of 7 runs, 10000 loops each)\n",
      "Solución: [('2c', (0, 2)), ('1c', (0, 1)), ('2c', (0, 2)), ('1c', (0, 1)), ('2m', (2, 0)), ('1m1c', (1, 1)), ('2m', (2, 0)), ('1c', (0, 1)), ('2c', (0, 2)), ('1c', (0, 1)), ('2c', (0, 2))]\n",
      "Algoritmo: breadth_first_graph_search\n",
      "Longitud de la solución: 11. Nodos analizados: 15\n"
     ]
    }
   ],
   "source": [
    "# creamos un problema a partir de nuestra formalizacion de ProblemaMisioneros\n",
    "# como parametros le pasamos el estado inicial, y el estado meta que esperamos\n",
    "estado = ProblemaMisioneros((3, 3, 0), (0, 0, 1))\n",
    "\n",
    "# le decimos a aima que resuelva nuestro problema con el metodo de busqueda en\n",
    "# amplitud\n",
    "#breadth_first_tree_search(estado).solution()\n",
    "#%timeit breadth_first_tree_search(estado).solution()\n",
    "ProblemaMisioneros.evalAlgorithm((3, 3, 0), (0, 0, 1), breadth_first_tree_search)\n",
    "print(\"\\n-----\\n\")\n",
    "ProblemaMisioneros.evalAlgorithm((3, 3, 0), (0, 0, 1), breadth_first_graph_search)"
   ]
  },
  {
   "cell_type": "code",
   "execution_count": 6,
   "metadata": {},
   "outputs": [
    {
     "name": "stdout",
     "output_type": "stream",
     "text": [
      "Tiempo medio de ejecución: \n",
      "164 µs ± 29.6 µs per loop (mean ± std. dev. of 7 runs, 1000 loops each)\n",
      "Solución: [('1m1c', (1, 1)), ('1m', (1, 0)), ('2c', (0, 2)), ('1c', (0, 1)), ('2m', (2, 0)), ('1m1c', (1, 1)), ('2m', (2, 0)), ('1c', (0, 1)), ('2c', (0, 2)), ('1m', (1, 0)), ('1m1c', (1, 1))]\n",
      "Algoritmo: depth_first_graph_search\n",
      "Longitud de la solución: 11. Nodos analizados: 12\n"
     ]
    }
   ],
   "source": [
    "#ProblemaMisioneros.evalAlgorithm((3, 3, 0), (0, 0, 1), depth_first_tree_search) INFINITO\n",
    "ProblemaMisioneros.evalAlgorithm((3, 3, 0), (0, 0, 1), depth_first_graph_search)"
   ]
  },
  {
   "cell_type": "code",
   "execution_count": 7,
   "metadata": {},
   "outputs": [
    {
     "name": "stdout",
     "output_type": "stream",
     "text": [
      "Tiempo medio de ejecución: \n",
      "259 µs ± 50.9 µs per loop (mean ± std. dev. of 7 runs, 1000 loops each)\n",
      "Solución: [('1m1c', (1, 1)), ('1m', (1, 0)), ('2c', (0, 2)), ('1c', (0, 1)), ('2m', (2, 0)), ('1m1c', (1, 1)), ('2m', (2, 0)), ('1c', (0, 1)), ('2c', (0, 2)), ('1c', (0, 1)), ('2c', (0, 2))]\n",
      "Algoritmo: uniform_cost_search\n",
      "Longitud de la solución: 11. Nodos analizados: 15\n"
     ]
    }
   ],
   "source": [
    "ProblemaMisioneros.evalAlgorithm((3, 3, 0), (0, 0, 1), uniform_cost_search)"
   ]
  },
  {
   "cell_type": "markdown",
   "metadata": {},
   "source": [
    "b) Son las soluciones óptimas?\n",
    "El algoritmo de coste uniforme y búsqueda en anchura tienen soluciones óptimas por definición (búsqueda en anchura si todos los operadores tienen el mismo coste) al recorrer el árbol por niveles no se alcanza nunca una solución que sea más profunda que otra.\n",
    "El de profundidad encuentra también la solución óptima en este problema en específico, al ser la profundidad del árbol \"pequeña\" y estar la solución en las primeras ramas del arbol (por la izquierda).\n",
    "La solución óptima es de profundidad 11 (11 acciones)."
   ]
  },
  {
   "cell_type": "markdown",
   "metadata": {},
   "source": [
    "c) Coste de memoria de los algoritmos\n",
    "En cuanto a búsqueda en anchura la diferencia está en que sin control de repetidos analiza 11878 nodos y su cola de abiertos es más grande, y en cambio con control de repetidos analiza 15 y los repetidos los guarda en su conjunto de cerrados. En medidas asintóticas tienen el mismo coste en memoria porque lo que te ahorras en la cola de abiertos se emplea en la cola de cerrados, pero en este problema en particular no (son muy pocos estados hasta la solución) y es mucho más beneficioso relizar control de repetidos.\n",
    "\n",
    "Busqueda en profundidad ahorra al tener en memoria solo los nodos de una rama, que en este caso son muy pocos (12 nodos), y coste uniforme sigue el mismo principio que búsqueda en anchura con control de repetidos."
   ]
  },
  {
   "cell_type": "markdown",
   "metadata": {},
   "source": [
    "d) Que algoritmo es mejor\n",
    "El mejor podría ser búsqueda en anchura con control de repetidos, en cuanto a su menor tiempo y espacio empleado.\n",
    "Coste uniforme sería complicar la búsqueda en anchura al ser el coste de los caminos equivalente a la profundidad\n",
    "en este problema, y búsqueda en profundidad con control de repetidos también funciona bien pero si el problema fuera \n",
    "más grande en profundidad del árbol de estados, como en el puzzle de ocho, daría solución suboptima en un tiempo mayor."
   ]
  },
  {
   "cell_type": "markdown",
   "metadata": {},
   "source": [
    "### Ejercicio opcional. Define alguna heurística y estudia las propiedades del algoritmo A*"
   ]
  },
  {
   "cell_type": "code",
   "execution_count": null,
   "metadata": {},
   "outputs": [],
   "source": []
  }
 ],
 "metadata": {
  "kernelspec": {
   "display_name": "Python 3",
   "language": "python",
   "name": "python3"
  },
  "language_info": {
   "codemirror_mode": {
    "name": "ipython",
    "version": 3
   },
   "file_extension": ".py",
   "mimetype": "text/x-python",
   "name": "python",
   "nbconvert_exporter": "python",
   "pygments_lexer": "ipython3",
   "version": "3.7.3"
  }
 },
 "nbformat": 4,
 "nbformat_minor": 2
}
